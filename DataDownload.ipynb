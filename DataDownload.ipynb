{
 "cells": [
  {
   "metadata": {
    "ExecuteTime": {
     "end_time": "2025-11-01T02:36:35.224888Z",
     "start_time": "2025-11-01T02:36:35.219890Z"
    }
   },
   "cell_type": "code",
   "source": [
    "import yfinance as yf\n",
    "import pandas as pd"
   ],
   "id": "4d83cf1f2fdb4ab9",
   "outputs": [],
   "execution_count": 5
  },
  {
   "metadata": {
    "ExecuteTime": {
     "end_time": "2025-11-01T02:36:35.184100100Z",
     "start_time": "2025-11-01T02:18:36.968098Z"
    }
   },
   "cell_type": "code",
   "outputs": [],
   "execution_count": 2,
   "source": [
    "import yfinance as yf\n",
    "import pandas as pd"
   ],
   "id": "68634581f1e5a770"
  },
  {
   "metadata": {
    "ExecuteTime": {
     "end_time": "2025-11-01T02:36:35.194010800Z",
     "start_time": "2025-11-01T02:19:19.660188Z"
    }
   },
   "cell_type": "code",
   "source": [
    "def download_stock_data(ticker_symbol: str, period: str = \"max\"):\n",
    "    \"\"\"\n",
    "    Tải dữ liệu cổ phiếu từ Yahoo Finance bao gồm:\n",
    "    Open, High, Low, Close, Adj Close, Volume.\n",
    "    \"\"\"\n",
    "\n",
    "    try:\n",
    "        # Tải dữ liệu theo từng ngày (interval='1d')\n",
    "        data = yf.download(ticker_symbol, period=period, interval=\"1d\", auto_adjust=False)\n",
    "\n",
    "        if data.empty:\n",
    "            print(f\"Không tìm thấy dữ liệu cho mã {ticker_symbol}.\")\n",
    "            return None\n",
    "\n",
    "        # Nếu cột có MultiIndex (Price, Ticker) → gỡ bỏ cấp đầu\n",
    "        if isinstance(data.columns, pd.MultiIndex):\n",
    "            data.columns = data.columns.get_level_values(0)\n",
    "\n",
    "        # Giữ lại các cột cần thiết\n",
    "        data = data[['Open', 'High', 'Low', 'Close', 'Adj Close', 'Volume']]\n",
    "\n",
    "        # Đưa index 'Date' ra thành cột\n",
    "        data.reset_index(inplace=True)\n",
    "\n",
    "        return data\n",
    "\n",
    "    except Exception as e:\n",
    "        print(f\"Lỗi khi tải dữ liệu {ticker_symbol}: {e}\")\n",
    "        return None"
   ],
   "id": "559b4baaa7fe4726",
   "outputs": [],
   "execution_count": 3
  },
  {
   "metadata": {
    "ExecuteTime": {
     "end_time": "2025-11-01T02:37:17.245939Z",
     "start_time": "2025-11-01T02:37:08.111587Z"
    }
   },
   "cell_type": "code",
   "source": [
    "if __name__ == \"__main__\":\n",
    "    # Nhập mã cổ phiếu từ bàn phím (có thể nhập nhiều mã cách nhau bằng dấu phẩy)\n",
    "    tickers_input = input(\"Nhập mã cổ phiếu (ví dụ: AAPL, MSFT, NVDA): \").strip()\n",
    "    tickers = [t.strip().upper() for t in tickers_input.split(\",\") if t.strip() != \"\"]\n",
    "\n",
    "    # Tải và lưu từng mã với dữ liệu từng ngày (daily)\n",
    "    for ticker in tickers:\n",
    "        data = download_stock_data(ticker, period=\"max\")"
   ],
   "id": "3b0316c0fbfc44df",
   "outputs": [
    {
     "name": "stderr",
     "output_type": "stream",
     "text": [
      "[*********************100%***********************]  1 of 1 completed\n"
     ]
    }
   ],
   "execution_count": 6
  }
 ],
 "metadata": {
  "kernelspec": {
   "name": "python3",
   "language": "python",
   "display_name": "Python 3 (ipykernel)"
  }
 },
 "nbformat": 4,
 "nbformat_minor": 5
}
