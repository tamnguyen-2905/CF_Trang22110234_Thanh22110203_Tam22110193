{
 "cells": [
  {
   "metadata": {},
   "cell_type": "markdown",
   "source": [
    "## Thu thập dữ liệu gồm OHLC data và corporate action data\n",
    "- Quá khứ đến 1.10.2025\n",
    "- Tất cả nếu lấy sau ngày 1.10 thì tuyệt đối không đụng đến để đoạn từ 1.10 đến\n",
    "31.12 sẽ bung ra sau (giả thực tế)\n",
    "## Xử lý dữ liệu\n",
    "- Stock Split\n",
    "- Dividends\n",
    "- Missing values & outliers\n",
    "## Technical Indicators and Build Signal\n",
    "- Stock Return (Log Returns)\n",
    "- Build Momentum Signal (tín hiệu có thể là vị trí của giá so với Simple Moving Average (SMA)\n",
    "hoặc Bollinger Bands)\n",
    "## Cross-sectional\n",
    "- Ranking\n",
    "- Long/Short Position (Mua/Bán n cổ phiếu có thứ hạng cao đến thấp/thấp đến cao, Equal Weighting)\n",
    "- Rebalancing (Giữ danh mục đầu tư này trong 1 tháng. Vào cuối tháng, đóng tất cả các vị thế, tính toán lại signal,\n",
    "ranking lại, và mở các vị thế long/short mới cho tháng tiếp theo.)\n",
    "## Backtesting\n",
    "- Tính lợi nhuận hàng tháng của danh mục. Lợi nhuận của danh mục là trung bình của lợi nhuận từ các vị thế long và short.\n",
    "- Statistical Analysis (Hypothesis Testing, \"Alpha\" - lợi nhuận vượt trội so với thị trường chuẩn, sử dụng QQ Plot để kiểm tra xem nó có \"đuôi béo\" (fat tails) hay không - cho thấy rủi ro cao hơn so với phân phối chuẩn.)\n",
    "- Regression (tránh Bias)"
   ],
   "id": "21f28e7db31a26b6"
  },
  {
   "metadata": {},
   "cell_type": "markdown",
   "source": [
    "### Lưu ý\n",
    "Lúc làm data lấy từ 1.2015 đến 31.9.2025\n",
    "Pick random 80:20/ 70:30\n",
    "6 tháng / 3 tháng\n",
    "6.2016 - 12.2016, 1.2018-6.2018, 3.2021-12.2021\n"
   ],
   "id": "f98bdfeb2c362f0e"
  }
 ],
 "metadata": {
  "kernelspec": {
   "display_name": "Python 3",
   "language": "python",
   "name": "python3"
  },
  "language_info": {
   "codemirror_mode": {
    "name": "ipython",
    "version": 2
   },
   "file_extension": ".py",
   "mimetype": "text/x-python",
   "name": "python",
   "nbconvert_exporter": "python",
   "pygments_lexer": "ipython2",
   "version": "2.7.6"
  }
 },
 "nbformat": 4,
 "nbformat_minor": 5
}
