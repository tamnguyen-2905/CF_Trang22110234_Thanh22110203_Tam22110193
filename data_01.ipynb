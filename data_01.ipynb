{
 "cells": [
  {
   "cell_type": "code",
   "id": "initial_id",
   "metadata": {
    "collapsed": true,
    "ExecuteTime": {
     "end_time": "2025-11-01T08:10:07.858046Z",
     "start_time": "2025-11-01T08:10:07.854840Z"
    }
   },
   "source": [
    "import yfinance as yf\n",
    "import pandas as pd"
   ],
   "outputs": [],
   "execution_count": 31
  },
  {
   "metadata": {
    "ExecuteTime": {
     "end_time": "2025-11-01T08:10:07.869940Z",
     "start_time": "2025-11-01T08:10:07.866572Z"
    }
   },
   "cell_type": "code",
   "source": [
    "def download_stock_data(ticker_symbol: str, period: str = \"max\"):\n",
    "    \"\"\"\n",
    "    Tải dữ liệu cổ phiếu từ Yahoo Finance bao gồm:\n",
    "    Open, High, Low, Close, Adj Close, Volume.\n",
    "    \"\"\"\n",
    "    try:\n",
    "        # Tải dữ liệu theo từng ngày (interval='1d')\n",
    "        data = yf.download(ticker_symbol, period=period, interval=\"1d\", auto_adjust=False)\n",
    "\n",
    "        if data.empty:\n",
    "            print(f\"Không tìm thấy dữ liệu cho mã {ticker_symbol}.\")\n",
    "            return None\n",
    "        # Nếu cột có MultiIndex (Price, Ticker) → gỡ bỏ cấp đầu\n",
    "        if isinstance(data.columns, pd.MultiIndex):\n",
    "            data.columns = data.columns.get_level_values(0)\n",
    "\n",
    "        # Giữ lại các cột cần thiết\n",
    "        data = data[['Open', 'High', 'Low', 'Close', 'Adj Close', 'Volume']]\n",
    "\n",
    "        # Đưa index 'Date' ra thành cột\n",
    "        data.reset_index(inplace=True)\n",
    "\n",
    "        return data\n",
    "\n",
    "    except Exception as e:\n",
    "        print(f\"Lỗi khi tải dữ liệu {ticker_symbol}: {e}\")\n",
    "        return None"
   ],
   "id": "ebf76762e4bab700",
   "outputs": [],
   "execution_count": 32
  },
  {
   "metadata": {
    "ExecuteTime": {
     "end_time": "2025-11-01T08:10:22.179070Z",
     "start_time": "2025-11-01T08:10:07.875317Z"
    }
   },
   "cell_type": "code",
   "source": [
    "if __name__ == \"__main__\":\n",
    "    # Nhập mã cổ phiếu từ bàn phím (có thể nhập nhiều mã cách nhau bằng dấu phẩy)\n",
    "    tickers_input = input(\"Nhập mã cổ phiếu (ví dụ: AAPL, MSFT, NVDA): \").strip()\n",
    "    tickers = [t.strip().upper() for t in tickers_input.split(\",\") if t.strip() != \"\"]\n",
    "\n",
    "    # Tải và lưu từng mã với dữ liệu từng ngày (daily)\n",
    "    for ticker in tickers:\n",
    "        data = download_stock_data(ticker, period=\"max\")"
   ],
   "id": "c0f4361bbf2f59de",
   "outputs": [
    {
     "name": "stderr",
     "output_type": "stream",
     "text": [
      "[*********************100%***********************]  1 of 1 completed\n"
     ]
    }
   ],
   "execution_count": 33
  }
 ],
 "metadata": {
  "kernelspec": {
   "display_name": "Python 3",
   "language": "python",
   "name": "python3"
  },
  "language_info": {
   "codemirror_mode": {
    "name": "ipython",
    "version": 2
   },
   "file_extension": ".py",
   "mimetype": "text/x-python",
   "name": "python",
   "nbconvert_exporter": "python",
   "pygments_lexer": "ipython2",
   "version": "2.7.6"
  }
 },
 "nbformat": 4,
 "nbformat_minor": 5
}
